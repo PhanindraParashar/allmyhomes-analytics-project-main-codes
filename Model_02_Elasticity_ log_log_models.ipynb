{
 "cells": [
  {
   "cell_type": "markdown",
   "metadata": {},
   "source": [
    "# Importing Libraries"
   ]
  },
  {
   "cell_type": "code",
   "execution_count": null,
   "metadata": {},
   "outputs": [],
   "source": [
    "import numpy as np\n",
    "import pandas as pd\n",
    "import seaborn as sns\n",
    "import matplotlib.pyplot as plt\n",
    "from scipy import stats\n",
    "import matplotlib.pyplot as plt\n",
    "import statsmodels.api as sm\n",
    "from statsmodels.formula.api import logit, probit, poisson, ols\n",
    "import statsmodels.formula.api as smf\n",
    "from pycaret.regression import *\n",
    "from statsmodels.formula.api import ols\n",
    "from pandas_profiling import ProfileReport\n",
    "from sklearn.linear_model import LinearRegression\n",
    "from sklearn.metrics import r2_score\n",
    "import plotly.offline as pyo\n",
    "import plotly.graph_objs as go\n",
    "import plotly.express as px\n",
    "from stargazer.stargazer import Stargazer\n",
    "from IPython.core.display import HTML,Latex"
   ]
  },
  {
   "cell_type": "markdown",
   "metadata": {},
   "source": [
    "# Helper Functions to create models"
   ]
  },
  {
   "cell_type": "code",
   "execution_count": null,
   "metadata": {},
   "outputs": [],
   "source": [
    "def stat_model_eq(log_model,ex,target='Price_Rent_ratio_log'):\n",
    "    p = [target]\n",
    "    for j in ex:\n",
    "        p.append(j)\n",
    "    a = ''\n",
    "    V = []\n",
    "    cols = log_model.columns\n",
    "    for i in cols:\n",
    "        if i not in p:\n",
    "            if i not in V:\n",
    "                a += i + ' + '\n",
    "    b = a[:-2]\n",
    "    return b\n",
    "\n",
    "def stat_model(log_model,ex=[],target='Price_Rent_ratio_log',normalize=True):\n",
    "    b = stat_model_eq(log_model,ex,target)\n",
    "    eq = target + ' ~ ' + b\n",
    "    dvn = normalize_model(log_model,ex)\n",
    "    if normalize:\n",
    "        model = ols(eq,data=dvn)\n",
    "        fitted_model = model.fit()\n",
    "        #print(fitted_model.summary())\n",
    "        \n",
    "    else:\n",
    "        model = ols(eq,data=log_model)\n",
    "        fitted_model = model.fit()\n",
    "        #print(fitted_model.summary())\n",
    "        \n",
    "    \n",
    "    I = fitted_model.pvalues.index\n",
    "    V = []\n",
    "    for i in range(len(I)):\n",
    "        v = fitted_model.pvalues[i]\n",
    "        if v > .05:\n",
    "            V.append(I[i])\n",
    "            #print(I[i],v)\n",
    "    \n",
    "    return model\n",
    "    \n",
    "    \n",
    "def normalize_model(df,ex):\n",
    "    dfw = df.copy()\n",
    "    p = ['obj_buildingType']\n",
    "    for i in ex:\n",
    "        p.append(i)\n",
    "    var = [c for c in dfw.columns if c not in p]\n",
    "    dv = dfw[var]\n",
    "    dvn = (dv - dv.min())/dv.std()\n",
    "    dvn['obj_buildingType'] = dfw['obj_buildingType']\n",
    "    return dvn\n",
    "\n",
    "def eq(di,ex=[],target='Price_Rent_ratio_log'):\n",
    "    b = stat_model_eq(di,[],target)\n",
    "    return target + ' ~ ' + b\n",
    "\n",
    "\n",
    "def stat_model_eq_interaction_all(log_model,ex=[],target='Price_Rent_ratio_log'):\n",
    "    p = [target]\n",
    "    for j in ex:\n",
    "        p.append(j)\n",
    "    a = ''\n",
    "    V = []\n",
    "    cols = log_model.columns\n",
    "    for i in cols:\n",
    "        if i not in p:\n",
    "            if i not in V:\n",
    "                if i == 'obj_buildingType':\n",
    "                    a += i + ' + '\n",
    "                else:\n",
    "                    a += 'C(obj_buildingType)*' + i + ' + '\n",
    "    b = a[:-2]\n",
    "    return b\n",
    "\n",
    "def eq_all(di,ex=[],target='Price_Rent_ratio_log'):\n",
    "    b = stat_model_eq_interaction_all(di)\n",
    "    return target + ' ~ ' + b"
   ]
  },
  {
   "cell_type": "markdown",
   "metadata": {},
   "source": [
    "# Importing the data"
   ]
  },
  {
   "cell_type": "code",
   "execution_count": null,
   "metadata": {},
   "outputs": [],
   "source": [
    "dc = pd.read_csv('all_median_pr_merged_with_no_percent_for_elasticity.csv')\n",
    "mc = dc.drop('zip',axis=1)\n",
    "\n",
    "di = mc.copy()\n",
    "di['public_transport'].replace(0,1,inplace=True)\n",
    "log_col = [c for c in di.columns if c!= 'obj_buildingType']\n",
    "log_model = pd.DataFrame()\n",
    "for i in log_col:\n",
    "    log_model[i+'_log'] = np.log(di[i])\n",
    "\n",
    "log_model['obj_buildingType'] = di['obj_buildingType']\n",
    "log_model.drop(['price_sup_log','rent_supply_log','North_of_city_log','East_of_city_log','sell_buy_ratio_log','population_18_30_log','population_30_50_log','bus_log','Wage_and_income_tax_log','Wage_and_income_taxpayers_log'],axis=1,inplace=True)"
   ]
  },
  {
   "cell_type": "markdown",
   "metadata": {},
   "source": [
    "# Removing the category of houses that have less than 20 data points for reducing the overfitting"
   ]
  },
  {
   "cell_type": "code",
   "execution_count": null,
   "metadata": {},
   "outputs": [],
   "source": [
    "count = log_model.groupby(['obj_buildingType']).count()[['Price_Rent_ratio_log']]\n",
    "ag = log_model.groupby(['obj_buildingType']).mean()[['Price_Rent_ratio_log','rooms_log']]\n",
    "ag['count'] = count\n",
    "ag[ag['count'] > 20]\n",
    "btype = ag[ag['count'] > 20].index\n",
    "df = log_model[log_model['obj_buildingType'].isin(btype)]\n",
    "df['area_per_room_log'] = df['livingSpace_log']-df['rooms_log']\n",
    "\n",
    "df.drop('rooms_log',axis=1,inplace=True)\n",
    "df.drop(['Lat_log','Lng_log'],axis=1,inplace=True)\n",
    "\n",
    "dvn = df.copy()\n",
    "equ = eq(df)"
   ]
  },
  {
   "cell_type": "markdown",
   "metadata": {},
   "source": [
    "# Normalization is not required in log-log models"
   ]
  },
  {
   "cell_type": "markdown",
   "metadata": {},
   "source": [
    "# Null Model"
   ]
  },
  {
   "cell_type": "code",
   "execution_count": null,
   "metadata": {},
   "outputs": [],
   "source": [
    "model = ols('Price_Rent_ratio_log ~ 1',data=dvn)\n",
    "null_model = model.fit()\n",
    "null_model.summary()"
   ]
  },
  {
   "cell_type": "markdown",
   "metadata": {},
   "source": [
    "# Helper functions to do statistical tests"
   ]
  },
  {
   "cell_type": "code",
   "execution_count": null,
   "metadata": {},
   "outputs": [],
   "source": [
    "from statsmodels.stats.anova import anova_lm\n",
    "def mcf(m1,null=null_model):\n",
    "    a = (m1.llf - m1.df_model)/null.llf\n",
    "    return 1 - a\n",
    "\n",
    "def horowitz(m1,m2,null=null_model):\n",
    "    ro1 = mcf(m1,null)\n",
    "    ro2 = mcf(m2,null)\n",
    "    \n",
    "    print('mcf ro model 1: ' ,ro1)\n",
    "    print('mcf ro model 2: ',ro2)\n",
    "    \n",
    "    \n",
    "    \n",
    "    if ro1 > ro2:\n",
    "        rho = ro1\n",
    "        rlo = ro2\n",
    "        print('model 1 has higher mcf')\n",
    "        deltadf = m1.df_model - m2.df_model\n",
    "        \n",
    "        v = -2*(rho-rlo)*null.llf + deltadf\n",
    "        print(deltadf)\n",
    "        return -np.sqrt(v)\n",
    "    else:\n",
    "        rho = ro2\n",
    "        rlo = ro1\n",
    "        print('model 2 has higher mcf')\n",
    "        deltadf = m2.df_model - m1.df_model\n",
    "        \n",
    "        v = -2*(rho-rlo)*null.llf + deltadf\n",
    "        return -np.sqrt(v)\n",
    "\n",
    "def f_test(m1,m2):\n",
    "    num = (m1.ssr - m2.ssr)/(m2.df_model - m1.df_model)\n",
    "    den = m2.ssr/(m2.nobs - m2.df_model)\n",
    "    d1 = (m2.df_model - m1.df_model)\n",
    "    d2 = (m2.nobs - m2.df_model)\n",
    "    return num/den,d1,d2\n",
    "\n",
    "def stat_model_eq_interaction_all(log_model,ex=[],target='Price_Rent_ratio_log'):\n",
    "    p = [target]\n",
    "    for j in ex:\n",
    "        p.append(j)\n",
    "    a = ''\n",
    "    V = []\n",
    "    cols = log_model.columns\n",
    "    for i in cols:\n",
    "        if i not in p:\n",
    "            if i not in V:\n",
    "                if i == 'obj_buildingType':\n",
    "                    a += i + ' + '\n",
    "                else:\n",
    "                    a += 'C(obj_buildingType)*' + i + ' + '\n",
    "    b = a[:-2]\n",
    "    return b\n",
    "\n",
    "def eq_all(di,ex=[],target='Price_Rent_ratio_log'):\n",
    "    b = stat_model_eq_interaction_all(di)\n",
    "    return target + ' ~ ' + b"
   ]
  },
  {
   "cell_type": "markdown",
   "metadata": {},
   "source": [
    "# Model with all variables"
   ]
  },
  {
   "cell_type": "code",
   "execution_count": null,
   "metadata": {},
   "outputs": [],
   "source": [
    "model = ols(eq(df),data=dvn)\n",
    "basic_model = model.fit()\n",
    "model.fit().summary()"
   ]
  },
  {
   "cell_type": "markdown",
   "metadata": {},
   "source": [
    "# all interaction"
   ]
  },
  {
   "cell_type": "code",
   "execution_count": null,
   "metadata": {
    "scrolled": false
   },
   "outputs": [],
   "source": [
    "model = ols(eq_all(df),data=dvn)\n",
    "interaction_all_building = model.fit()\n",
    "interaction_all_building.summary()"
   ]
  },
  {
   "cell_type": "markdown",
   "metadata": {},
   "source": [
    "# Helper function to drop in-significant interactions using ANOVA"
   ]
  },
  {
   "cell_type": "code",
   "execution_count": null,
   "metadata": {},
   "outputs": [],
   "source": [
    "def drop_interaction(df,interaction_all_building,target='Price_Rent_ratio',dvn=dvn):\n",
    "    col_interact = [c for c in df.columns if c not in [target,'obj_buildingType']]\n",
    "    rej = []\n",
    "    for i in col_interact:\n",
    "        e = ''\n",
    "        for j in col_interact:\n",
    "            if i==j:\n",
    "                e += j + ' + '\n",
    "            else:\n",
    "                e += 'C(obj_buildingType)*' + j + ' + '\n",
    "        a = e[:-2]\n",
    "        b = target + ' ~ C(obj_buildingType) + ' + a\n",
    "        model_i = ols(b,data=dvn)\n",
    "        imodel = model_i.fit()\n",
    "        p = anova_lm(imodel,interaction_all_building)['Pr(>F)'].iloc[1]\n",
    "        if p > .05:\n",
    "            print('reject the interaction with ',i)\n",
    "            rej.append(i)\n",
    "    \n",
    "    rej.append('obj_buildingType')\n",
    "    ne = ''\n",
    "    for i in col_interact:\n",
    "        if i not in rej:\n",
    "            ne += 'C(obj_buildingType)*' + i + ' + '\n",
    "        else:\n",
    "            ne += i + ' + '\n",
    "    m = target + ' ~ C(obj_buildingType) + ' + ne[:-2]\n",
    "    return m,rej"
   ]
  },
  {
   "cell_type": "markdown",
   "metadata": {},
   "source": [
    "# Removing insignificant interactions using ANOVA"
   ]
  },
  {
   "cell_type": "code",
   "execution_count": null,
   "metadata": {},
   "outputs": [],
   "source": [
    "m,rej = drop_interaction(df,interaction_all_building,target='Price_Rent_ratio_log')"
   ]
  },
  {
   "cell_type": "markdown",
   "metadata": {},
   "source": [
    "# Model"
   ]
  },
  {
   "cell_type": "code",
   "execution_count": null,
   "metadata": {
    "scrolled": true
   },
   "outputs": [],
   "source": [
    "model = ols(m,data=dvn)\n",
    "interaction_selected = model.fit()\n",
    "interaction_selected.summary()"
   ]
  },
  {
   "cell_type": "code",
   "execution_count": null,
   "metadata": {},
   "outputs": [],
   "source": [
    "I = interaction_selected.pvalues.index\n",
    "V = []\n",
    "for i in range(len(I)):\n",
    "    v = interaction_selected.pvalues[i]\n",
    "    if v > .1:\n",
    "        V.append(I[i])\n",
    "        print(I[i],v)"
   ]
  },
  {
   "cell_type": "markdown",
   "metadata": {},
   "source": [
    "# Significant Final Model "
   ]
  },
  {
   "cell_type": "code",
   "execution_count": null,
   "metadata": {},
   "outputs": [],
   "source": [
    "model = ols('Price_Rent_ratio_log ~ C(obj_buildingType) + C(obj_buildingType)*Deutsche_log  + C(obj_buildingType)*GDP_Per_Capita_state_log + Gross_domestic_product_per_person_in_employment_log + Population_State_log + Total_amount_of_income_log + cafe_log + doctors_log + fast_food_log + gross_domestic_product_log + restaurant_log + zip_population_log + C(obj_buildingType)*age_log + C(obj_buildingType)*livingSpace_log + avg_space_per_room_log + population_density_state_log + dist_aprox_log ',data=dvn)\n",
    "interaction_selected_final = model.fit()\n",
    "interaction_selected_final.summary()"
   ]
  },
  {
   "cell_type": "markdown",
   "metadata": {},
   "source": [
    "# Results interpretation"
   ]
  },
  {
   "cell_type": "code",
   "execution_count": null,
   "metadata": {},
   "outputs": [],
   "source": [
    "interaction_selected_final.summary()"
   ]
  },
  {
   "cell_type": "markdown",
   "metadata": {},
   "source": [
    "# Data Frame of coefficients"
   ]
  },
  {
   "cell_type": "code",
   "execution_count": null,
   "metadata": {},
   "outputs": [],
   "source": [
    "import plotly.graph_objects as go\n",
    "\n",
    "dp = pd.DataFrame()\n",
    "Param = []\n",
    "Coef = []\n",
    "P_V = []\n",
    "\n",
    "for i in range(len(interaction_selected.params.values)):\n",
    "    param = interaction_selected.params.index[i]\n",
    "    coef = interaction_selected.params.values[i]\n",
    "    p_v = interaction_selected.pvalues[i]\n",
    "    \n",
    "    if p_v < .1:\n",
    "        Param.append(param)\n",
    "        Coef.append(coef)\n",
    "        P_V.append(p_v)\n",
    "dp['Parameters'] = Param\n",
    "dp['Coef'] = Coef\n",
    "dp['p-values'] = P_V\n",
    "dp['p-values'] = dp['p-values'].round(3)\n",
    "dp.sort_values('p-values')"
   ]
  },
  {
   "cell_type": "code",
   "execution_count": null,
   "metadata": {},
   "outputs": [],
   "source": [
    "de = dp.copy()\n",
    "de['st'] = de['Parameters'].apply(lambda x: 1 if 'C(obj_buildingType)' in x else 0)\n",
    "de = de[de['st'] == 1]\n",
    "\n",
    "de['nst'] = de['Parameters'].apply(lambda x: 1 if 'livingSpace' not in x else 0)\n",
    "de = de[de['nst'] == 1]\n",
    "de.drop('nst',axis=1,inplace=True)\n",
    "\n",
    "de['nst'] = de['Parameters'].apply(lambda x: 1 if 'Lng' not in x else 0)\n",
    "de = de[de['nst'] == 1]\n",
    "de.drop('nst',axis=1,inplace=True)\n",
    "\n",
    "de['nst'] = de['Parameters'].apply(lambda x: 1 if 'age' not in x else 0)\n",
    "de = de[de['nst'] == 1]\n",
    "de.drop('nst',axis=1,inplace=True)\n",
    "\n",
    "de['nst'] = de['Parameters'].apply(lambda x: 1 if 'rooms' not in x else 0)\n",
    "de = de[de['nst'] == 1]\n",
    "de.drop('nst',axis=1,inplace=True)\n",
    "\n",
    "de['nst'] = de['Parameters'].apply(lambda x: 1 if 'GDP' not in x else 0)\n",
    "de = de[de['nst'] == 1]\n",
    "de.drop('nst',axis=1,inplace=True)"
   ]
  },
  {
   "cell_type": "code",
   "execution_count": null,
   "metadata": {},
   "outputs": [],
   "source": [
    "report = pd.DataFrame()\n",
    "models_report = [null_model,basic_model,interaction_all_building,interaction_selected_final]\n",
    "R2 = []\n",
    "AR2 = []\n",
    "AIC = []\n",
    "DF = []\n",
    "\n",
    "for i in models_report:\n",
    "    R2.append(i.rsquared)\n",
    "    AR2.append(i.rsquared_adj)\n",
    "    AIC.append(i.aic)\n",
    "    DF.append(i.df_model)\n",
    "\n",
    "Models = ['Null Model - log','Basic Model - log','All Interactions with building - Log','Interaction selected - log']\n",
    "report['Models'] = Models\n",
    "report['R2'] = R2\n",
    "report['Adj R2'] = AR2\n",
    "report['AIC'] = AIC\n",
    "report['DF'] = DF\n",
    "\n",
    "report.to_csv('log_model_report.csv')"
   ]
  },
  {
   "cell_type": "markdown",
   "metadata": {},
   "source": [
    "# Helper Functions to visualize the coefficients with p-values"
   ]
  },
  {
   "cell_type": "code",
   "execution_count": null,
   "metadata": {},
   "outputs": [],
   "source": [
    "def plot_coef_cat(dp,cat):\n",
    "    dr = dp.copy()\n",
    "    \n",
    "    if cat == '':\n",
    "        cat = 'other features'\n",
    "        dr['status'] = dr['Parameters'].apply(lambda x: 1 if 'C(obj_buildingType)' not in x else 0)\n",
    "        dr = dr[dr['status'] == 1]\n",
    "    \n",
    "    else:\n",
    "        dr['status'] = dr['Parameters'].apply(lambda x: 0 if cat not in x else 1)\n",
    "        dr = dr[dr['status'] == 1]\n",
    "    \n",
    "\n",
    "    if cat != '':\n",
    "        k = list(dr['Parameters'])\n",
    "        if cat not in k:\n",
    "            lc = 0\n",
    "        if cat in k:\n",
    "            lc = dr[dr['Parameters'] == cat]['Coef'].iloc[0]\n",
    "        dr['new_Coef'] = dr['Coef'].apply(lambda x: x+lc if x!=lc else x)\n",
    "    \n",
    "    else:\n",
    "        dr['new_Coef'] = dr['Coef']\n",
    "    \n",
    "    dr['categ'] = dr['Parameters'].apply(lambda x:  x.split('[T.')[1].split(']:')[0] if '[T.' in x else cat) \n",
    "    \n",
    "    \n",
    "    fig = px.bar(dr,x=dr['new_Coef'], y=dr['Parameters'],text=dr['new_Coef'].round(2),\n",
    "            color='p-values',\n",
    "            orientation='h'\n",
    "             )\n",
    "    \n",
    "    fig.update_layout(\n",
    "    title='Significant Impact on Price to Rent Ratio due to ' + cat,\n",
    "    xaxis=dict(\n",
    "        title='Coeficient in log model - Elasticity',\n",
    "        titlefont_size=16,\n",
    "        tickfont_size=14,\n",
    "    )\n",
    "    )\n",
    "    \n",
    "    fig.show()\n",
    "    \n",
    "    for j in list(dr['categ']):\n",
    "        if j!= cat:\n",
    "            scatter_cat(df,j,cat)\n",
    "    \n",
    "\n",
    "def scatter_cat(dr,cat,par):\n",
    "    df = dr.copy()\n",
    "    df = df[df['obj_buildingType'] == cat][['obj_buildingType',par,'Price_Rent_ratio_log']]\n",
    "    \n",
    "    fig = px.scatter(df, x=par, y='Price_Rent_ratio_log', trendline=\"ols\")\n",
    "    fig.update_layout(\n",
    "    title='Scatter Plot - Price to Rent Ratio  vs ' + cat,\n",
    "    \n",
    "    )\n",
    "    fig.show()\n",
    "    "
   ]
  },
  {
   "cell_type": "markdown",
   "metadata": {},
   "source": [
    "# Impact on type of houses"
   ]
  },
  {
   "cell_type": "code",
   "execution_count": null,
   "metadata": {
    "scrolled": false
   },
   "outputs": [],
   "source": [
    "fig = go.Figure(data=[go.Bar(\n",
    "            x=de['Coef'], y=de['Parameters'],\n",
    "            text=de['Coef'].round(2),\n",
    "            textposition='outside',orientation='h',marker_color=de['Coef']\n",
    "        )])\n",
    "\n",
    "fig.update_layout(\n",
    "    title='Significant Impact on Price to Rent Ratio due to Type of House',\n",
    "    xaxis=dict(\n",
    "        title='Log Model Coefficient',\n",
    "        titlefont_size=16,\n",
    "        tickfont_size=14,\n",
    "    )\n",
    "    )\n",
    "        \n",
    "fig.show()\n",
    "\n"
   ]
  },
  {
   "cell_type": "markdown",
   "metadata": {},
   "source": [
    "# Visualization of all the results - Elasticity"
   ]
  },
  {
   "cell_type": "code",
   "execution_count": null,
   "metadata": {},
   "outputs": [],
   "source": [
    "plot_coef_cat(dp,'')\n",
    "plot_coef_cat(dp,'Deutsche_log')\n",
    "plot_coef_cat(dp,'GDP_Per_Capita_state_log')\n",
    "plot_coef_cat(dp,'livingSpace_log')\n",
    "plot_coef_cat(dp,'age_log')"
   ]
  },
  {
   "cell_type": "markdown",
   "metadata": {},
   "source": [
    "# Stargazer to compare model coefficients"
   ]
  },
  {
   "cell_type": "code",
   "execution_count": null,
   "metadata": {},
   "outputs": [],
   "source": [
    "stargazer = Stargazer([null_model,basic_model,interaction_selected,interaction_selected_final])\n",
    "HTML(stargazer.render_html())"
   ]
  }
 ],
 "metadata": {
  "kernelspec": {
   "display_name": "Python 3.7 (tensorflow)",
   "language": "python",
   "name": "tensorflow"
  },
  "language_info": {
   "codemirror_mode": {
    "name": "ipython",
    "version": 3
   },
   "file_extension": ".py",
   "mimetype": "text/x-python",
   "name": "python",
   "nbconvert_exporter": "python",
   "pygments_lexer": "ipython3",
   "version": "3.7.6"
  }
 },
 "nbformat": 4,
 "nbformat_minor": 4
}
