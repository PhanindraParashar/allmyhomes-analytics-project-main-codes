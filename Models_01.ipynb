{
 "cells": [
  {
   "cell_type": "markdown",
   "metadata": {},
   "source": [
    "# Importing Libraries"
   ]
  },
  {
   "cell_type": "code",
   "execution_count": 2,
   "metadata": {},
   "outputs": [
    {
     "name": "stdout",
     "output_type": "stream",
     "text": [
      "[jovian] It looks like Jovian is already configured ( check ~/.jovian/credentials.json ).\n",
      "Do you want to overwrite the existing configuration? [y/N]: \n",
      "[jovian] Skipping..\n"
     ]
    },
    {
     "data": {
      "application/javascript": [
       "window.require && require([\"base/js/namespace\"],function(Jupyter){Jupyter.notebook.save_checkpoint()})"
      ],
      "text/plain": [
       "<IPython.core.display.Javascript object>"
      ]
     },
     "metadata": {},
     "output_type": "display_data"
    },
    {
     "name": "stdout",
     "output_type": "stream",
     "text": [
      "[jovian] Attempting to save notebook..\n",
      "[jovian] Updating notebook \"phanindraparashar/models-01\" on https://jovian.ml/\n",
      "[jovian] Uploading notebook..\n",
      "[jovian] Capturing environment..\n",
      "[jovian] Committed successfully! https://jovian.ml/phanindraparashar/models-01\n"
     ]
    },
    {
     "data": {
      "text/plain": [
       "'https://jovian.ml/phanindraparashar/models-01'"
      ]
     },
     "execution_count": 2,
     "metadata": {},
     "output_type": "execute_result"
    }
   ],
   "source": [
    "import jovian\n",
    "jovian.configure()\n",
    "jovian.commit()"
   ]
  },
  {
   "cell_type": "code",
   "execution_count": null,
   "metadata": {},
   "outputs": [],
   "source": [
    "import numpy as np\n",
    "import pandas as pd\n",
    "import matplotlib.pyplot as plt\n",
    "import datetime\n",
    "import plotly.offline as pyo\n",
    "import plotly.graph_objs as go\n",
    "import seaborn as sns\n",
    "from pycaret.classification import *\n",
    "\n",
    "from sklearn.model_selection import GridSearchCV, KFold,KFold, cross_val_score\n",
    "\n",
    "from sklearn.preprocessing import PolynomialFeatures, StandardScaler,RobustScaler \n",
    "\n",
    "from sklearn.pipeline import make_pipeline\n",
    "\n",
    "from sklearn.model_selection import train_test_split\n",
    "\n",
    "from sklearn.svm import SVC\n",
    "from sklearn.tree import DecisionTreeClassifier # Import Decision Tree Classifier\n",
    "from sklearn.linear_model import LogisticRegression,LinearRegression,Lasso\n",
    "\n",
    "from sklearn.metrics import accuracy_score, f1_score,mean_squared_error,classification_report,confusion_matrix\n",
    "\n",
    "from sklearn.naive_bayes import GaussianNB\n",
    "from sklearn.discriminant_analysis import QuadraticDiscriminantAnalysis\n",
    "\n",
    "from sklearn.model_selection import cross_val_score\n",
    "from sklearn.preprocessing import OneHotEncoder\n",
    "ohe = OneHotEncoder(sparse=False)\n",
    "from sklearn.compose import make_column_transformer\n",
    "from sklearn.pipeline import make_pipeline\n",
    "\n",
    "\n",
    "import pycaret\n",
    "import pandas as pd\n",
    "import numpy as np\n",
    "import seaborn as sns\n",
    "import matplotlib.pyplot as plt\n",
    "import numpy as np\n",
    "from scipy import stats\n",
    "import matplotlib.pyplot as plt\n",
    "import statsmodels.api as sm\n",
    "from statsmodels.formula.api import logit, probit, poisson, ols\n",
    "import statsmodels.formula.api as smf\n",
    "from pycaret.regression import *\n",
    "\n",
    "from statsmodels.formula.api import ols\n",
    "\n",
    "from sklearn.model_selection import cross_val_score\n",
    "from pandas_profiling import ProfileReport\n",
    "\n",
    "from sklearn.linear_model import LinearRegression\n",
    "from sklearn.metrics import r2_score\n",
    "\n",
    "import plotly.offline as pyo\n",
    "import plotly.graph_objs as go\n",
    "import plotly.express as px\n",
    "\n",
    "from stargazer.stargazer import Stargazer\n",
    "from IPython.core.display import HTML,Latex"
   ]
  },
  {
   "cell_type": "markdown",
   "metadata": {},
   "source": [
    "# Helper Functions to create models"
   ]
  },
  {
   "cell_type": "code",
   "execution_count": null,
   "metadata": {},
   "outputs": [],
   "source": [
    "def stat_model_eq(log_model,ex,target='Price_Rent_ratio'):\n",
    "    p = [target]\n",
    "    for j in ex:\n",
    "        p.append(j)\n",
    "    a = ''\n",
    "    V = []\n",
    "    cols = log_model.columns\n",
    "    for i in cols:\n",
    "        if i not in p:\n",
    "            if i not in V:\n",
    "                a += i + ' + '\n",
    "    b = a[:-2]\n",
    "    return b\n",
    "\n",
    "def stat_model(log_model,ex=[],target='Price_Rent_ratio',normalize=True):\n",
    "    b = stat_model_eq(log_model,ex,target)\n",
    "    eq = target + ' ~ ' + b\n",
    "    dvn = normalize_model(log_model,ex)\n",
    "    if normalize:\n",
    "        model = ols(eq,data=dvn)\n",
    "        fitted_model = model.fit()\n",
    "        #print(fitted_model.summary())\n",
    "        \n",
    "    else:\n",
    "        model = ols(eq,data=log_model)\n",
    "        fitted_model = model.fit()\n",
    "        #print(fitted_model.summary())\n",
    "        \n",
    "    \n",
    "    I = fitted_model.pvalues.index\n",
    "    V = []\n",
    "    for i in range(len(I)):\n",
    "        v = fitted_model.pvalues[i]\n",
    "        if v > .05:\n",
    "            V.append(I[i])\n",
    "            #print(I[i],v)\n",
    "    \n",
    "    return model\n",
    "    \n",
    "    \n",
    "def normalize_model(df,ex):\n",
    "    dfw = df.copy()\n",
    "    p = ['obj_buildingType']\n",
    "    for i in ex:\n",
    "        p.append(i)\n",
    "    var = [c for c in dfw.columns if c not in p]\n",
    "    dv = dfw[var]\n",
    "    dvn = (dv - dv.min())/dv.std()\n",
    "    dvn['obj_buildingType'] = dfw['obj_buildingType']\n",
    "    return dvn\n",
    "\n",
    "def eq(di,ex=[],target='Price_Rent_ratio'):\n",
    "    b = stat_model_eq(di,[],target)\n",
    "    return target + ' ~ ' + b\n",
    "\n",
    "\n",
    "def stat_model_eq_interaction_all(log_model,ex=[],target='Price_Rent_ratio'):\n",
    "    p = [target]\n",
    "    for j in ex:\n",
    "        p.append(j)\n",
    "    a = ''\n",
    "    V = []\n",
    "    cols = log_model.columns\n",
    "    for i in cols:\n",
    "        if i not in p:\n",
    "            if i not in V:\n",
    "                if i == 'obj_buildingType':\n",
    "                    a += i + ' + '\n",
    "                else:\n",
    "                    a += 'C(obj_buildingType)*' + i + ' + '\n",
    "    b = a[:-2]\n",
    "    return b\n",
    "\n",
    "def eq_all(di,ex=[],target='Price_Rent_ratio'):\n",
    "    b = stat_model_eq_interaction_all(di)\n",
    "    return target + ' ~ ' + b"
   ]
  },
  {
   "cell_type": "markdown",
   "metadata": {},
   "source": [
    "# Machine Learning Aproach - Not used in the final model"
   ]
  },
  {
   "cell_type": "code",
   "execution_count": null,
   "metadata": {},
   "outputs": [],
   "source": [
    "lin_model = make_pipeline(\n",
    "    StandardScaler(),\n",
    "    LinearRegression()\n",
    ")\n",
    "\n",
    "def lr_pred(dg,target):\n",
    "    df = dg.copy()\n",
    "\n",
    "    nc = [c for c in df.columns if c not in ['obj_buildingType']]\n",
    "    dn = df[nc]\n",
    "    \n",
    "    typ_h = pd.get_dummies(df['obj_buildingType'],drop_first=True)\n",
    "    df = pd.concat([dn,typ_h],axis=1)\n",
    "    \n",
    "    cols = [c for c in df.columns if c!= target]\n",
    "    X = df[cols]\n",
    "    y = df[target].values\n",
    "    \n",
    "    model = lin_model.fit(X, y)\n",
    "    \n",
    "    y_pred = model.predict(X)\n",
    "    \n",
    "    mse = mean_squared_error(y, y_pred)\n",
    "    \n",
    "    r2 = r2_score(y,y_pred)\n",
    "    \n",
    "    dr = df.copy()\n",
    "    dr['pred'] = y_pred\n",
    "    \n",
    "    a = dr.copy()\n",
    "    \n",
    "    a['diff_pred'] = a['Price_Rent_ratio'] - a['pred']\n",
    "    a['percemt_diff'] = 100*(a['diff_pred']/a['Price_Rent_ratio'])\n",
    "    \n",
    "    dcat = dg.copy()\n",
    "    dcat['pred'] = y_pred\n",
    "    dcat['diff_pred'] = dcat['Price_Rent_ratio'] - dcat['pred']\n",
    "    dcat['percent_diff'] = 100*(dcat['diff_pred']/dcat['Price_Rent_ratio'])\n",
    "    \n",
    "    \n",
    "    return dcat"
   ]
  },
  {
   "cell_type": "markdown",
   "metadata": {},
   "source": [
    "# Importing the dataset"
   ]
  },
  {
   "cell_type": "code",
   "execution_count": null,
   "metadata": {},
   "outputs": [],
   "source": [
    "dc = pd.read_csv('all_median_pr_merged_with_no_percent_for_elasticity.csv')\n",
    "mc = dc.drop('zip',axis=1)"
   ]
  },
  {
   "cell_type": "markdown",
   "metadata": {},
   "source": [
    "# Feature Engineering and Feature creation"
   ]
  },
  {
   "cell_type": "code",
   "execution_count": null,
   "metadata": {},
   "outputs": [],
   "source": [
    "mc['Employed_ratio'] = mc['Gross_domestic_product_per_inhabitant']/mc['Gross_domestic_product_per_person_in_employment']\n",
    "mc['tax_payers_ratio'] = mc['Wage_and_income_taxpayers']/(mc['Deutsche'] + mc['Foreigners'])\n",
    "mc['tax_payers_to_employed_ratio'] = mc['tax_payers_ratio']/mc['Employed_ratio']\n",
    "mc['GDP_dist_state_ratio'] =  mc['Gross_domestic_product_per_inhabitant']/mc['GDP_Per_Capita_state']\n",
    "mc['tax_per_payers'] = mc['Wage_and_income_tax']/mc['Wage_and_income_taxpayers']\n",
    "\n",
    "mc['percent_population_18_30'] = mc['population_18_30']/(mc['Deutsche'] + mc['Foreigners'])\n",
    "mc['percent_population_30_50'] = mc['population_30_50']/(mc['Deutsche'] + mc['Foreigners'])\n",
    "#mc['German_percentage_of_population'] = 100*mc['Deutsche']/(mc['Deutsche'] + mc['Foreigners'])\n",
    "mc['foregin_percent_population'] = 100*mc['Foreigners']/(mc['Foreigners']+mc['Deutsche'])\n",
    "\n",
    "mc.drop(['bus','Total_amount_of_income','Wage_and_income_taxpayers','Gross_domestic_product_per_person_in_employment'],axis=1,inplace=True)\n",
    "di = mc.drop(['population_18_30','population_30_50','Wage_and_income_tax','Gross_domestic_product_per_inhabitant','Foreigners','Deutsche','avg_space_per_room','price_sup','rent_supply','sell_buy_ratio'],axis=1)"
   ]
  },
  {
   "cell_type": "markdown",
   "metadata": {},
   "source": [
    "# Removing category of houses that have less than 20 data points to prevent overfitting"
   ]
  },
  {
   "cell_type": "code",
   "execution_count": null,
   "metadata": {},
   "outputs": [],
   "source": [
    "a = lr_pred(di,'Price_Rent_ratio')\n",
    "a['zip_code'] = a.index\n",
    "a['abs_percent'] = np.absolute(a['percent_diff'])\n",
    "count = a.groupby(['obj_buildingType']).count()[['Price_Rent_ratio']]\n",
    "ag = a.groupby(['obj_buildingType']).mean()[['Price_Rent_ratio','pred','diff_pred','percent_diff','abs_percent','age','rooms']]\n",
    "ag['count'] = count\n",
    "ag[ag['count'] > 20]\n",
    "btype = ag[ag['count'] > 20].index\n",
    "df = di[di['obj_buildingType'].isin(btype)]\n",
    "df['area_per_room'] = df['livingSpace']/df['rooms']\n",
    "\n",
    "df.drop('rooms',axis=1,inplace=True)"
   ]
  },
  {
   "cell_type": "markdown",
   "metadata": {},
   "source": [
    "# Machine Learning Aproach - Verify if the model is over fitting or not and comparing over 20 ML models"
   ]
  },
  {
   "cell_type": "code",
   "execution_count": null,
   "metadata": {},
   "outputs": [],
   "source": [
    "from pycaret.regression import *\n",
    "exp_reg = setup(df, target = 'Price_Rent_ratio')\n",
    "\n",
    "compare_models()"
   ]
  },
  {
   "cell_type": "markdown",
   "metadata": {},
   "source": [
    "# Linear Model - Machine Learning - (10 cross validation)"
   ]
  },
  {
   "cell_type": "code",
   "execution_count": null,
   "metadata": {},
   "outputs": [],
   "source": [
    "create_model('lr')"
   ]
  },
  {
   "cell_type": "markdown",
   "metadata": {},
   "source": [
    "# Normalizing the data for intrepretable coefficients"
   ]
  },
  {
   "cell_type": "code",
   "execution_count": null,
   "metadata": {},
   "outputs": [],
   "source": [
    "dsa = dc.copy()\n",
    "dsa[['zip','obj_buildingType','Price_Rent_ratio','livingSpace','rooms','age','Lat','Lng','Deutsche','Foreigners','dist_aprox','bus', 'cafe', 'doctors', 'fast_food']].head(10)\n",
    "dvn = normalize_model(df,ex=[])\n",
    "equ = eq(df)"
   ]
  },
  {
   "cell_type": "markdown",
   "metadata": {},
   "source": [
    "# Null Model"
   ]
  },
  {
   "cell_type": "code",
   "execution_count": null,
   "metadata": {},
   "outputs": [],
   "source": [
    "model = ols('Price_Rent_ratio ~ 1',data=dvn)\n",
    "null_model = model.fit()\n",
    "null_model.summary()"
   ]
  },
  {
   "cell_type": "markdown",
   "metadata": {},
   "source": [
    "# Helper Functions"
   ]
  },
  {
   "cell_type": "code",
   "execution_count": null,
   "metadata": {},
   "outputs": [],
   "source": [
    "from statsmodels.stats.anova import anova_lm\n",
    "def mcf(m1,null=null_model):\n",
    "    a = (m1.llf - m1.df_model)/null.llf\n",
    "    return 1 - a\n",
    "\n",
    "def horowitz(m1,m2,null=null_model):\n",
    "    ro1 = mcf(m1,null)\n",
    "    ro2 = mcf(m2,null)\n",
    "    \n",
    "    print('mcf ro model 1: ' ,ro1)\n",
    "    print('mcf ro model 2: ',ro2)\n",
    "    \n",
    "    \n",
    "    \n",
    "    if ro1 > ro2:\n",
    "        rho = ro1\n",
    "        rlo = ro2\n",
    "        print('model 1 has higher mcf')\n",
    "        deltadf = m1.df_model - m2.df_model\n",
    "        \n",
    "        v = -2*(rho-rlo)*null.llf + deltadf\n",
    "        print(deltadf)\n",
    "        return -np.sqrt(v)\n",
    "    else:\n",
    "        rho = ro2\n",
    "        rlo = ro1\n",
    "        print('model 2 has higher mcf')\n",
    "        deltadf = m2.df_model - m1.df_model\n",
    "        \n",
    "        v = -2*(rho-rlo)*null.llf + deltadf\n",
    "        return -np.sqrt(v)\n",
    "\n",
    "def f_test(m1,m2):\n",
    "    num = (m1.ssr - m2.ssr)/(m2.df_model - m1.df_model)\n",
    "    den = m2.ssr/(m2.nobs - m2.df_model)\n",
    "    d1 = (m2.df_model - m1.df_model)\n",
    "    d2 = (m2.nobs - m2.df_model)\n",
    "    return num/den,d1,d2\n",
    "\n",
    "def stat_model_eq_interaction_all(log_model,ex=[],target='Price_Rent_ratio'):\n",
    "    p = [target]\n",
    "    for j in ex:\n",
    "        p.append(j)\n",
    "    a = ''\n",
    "    V = []\n",
    "    cols = log_model.columns\n",
    "    for i in cols:\n",
    "        if i not in p:\n",
    "            if i not in V:\n",
    "                if i == 'obj_buildingType':\n",
    "                    a += i + ' + '\n",
    "                else:\n",
    "                    a += 'C(obj_buildingType)*' + i + ' + '\n",
    "    b = a[:-2]\n",
    "    return b\n",
    "\n",
    "def eq_all(di,ex=[],target='Price_Rent_ratio'):\n",
    "    b = stat_model_eq_interaction_all(di)\n",
    "    return target + ' ~ ' + b"
   ]
  },
  {
   "cell_type": "markdown",
   "metadata": {},
   "source": [
    "# Model with All Variables"
   ]
  },
  {
   "cell_type": "code",
   "execution_count": null,
   "metadata": {},
   "outputs": [],
   "source": [
    "model = ols(eq(df),data=dvn)\n",
    "basic_model = model.fit()\n",
    "model.fit().summary()"
   ]
  },
  {
   "cell_type": "markdown",
   "metadata": {},
   "source": [
    "# all interaction model"
   ]
  },
  {
   "cell_type": "code",
   "execution_count": null,
   "metadata": {},
   "outputs": [],
   "source": [
    "model = ols(eq_all(df),data=dvn)\n",
    "interaction_all_building = model.fit()\n",
    "interaction_all_building.summary()"
   ]
  },
  {
   "cell_type": "markdown",
   "metadata": {},
   "source": [
    "# Helper functions to select relevant interactions using ANOVA"
   ]
  },
  {
   "cell_type": "code",
   "execution_count": null,
   "metadata": {},
   "outputs": [],
   "source": [
    "def drop_interaction(df,interaction_all_building,target='Price_Rent_ratio',dvn=dvn):\n",
    "    col_interact = [c for c in df.columns if c not in [target,'obj_buildingType']]\n",
    "    rej = []\n",
    "    for i in col_interact:\n",
    "        e = ''\n",
    "        for j in col_interact:\n",
    "            if i==j:\n",
    "                e += j + ' + '\n",
    "            else:\n",
    "                e += 'C(obj_buildingType)*' + j + ' + '\n",
    "        a = e[:-2]\n",
    "        b = target + ' ~ C(obj_buildingType) + ' + a\n",
    "        model_i = ols(b,data=dvn)\n",
    "        imodel = model_i.fit()\n",
    "        p = anova_lm(imodel,interaction_all_building)['Pr(>F)'].iloc[1]\n",
    "        if p > .05:\n",
    "            print('reject the interaction with ',i)\n",
    "            rej.append(i)\n",
    "    \n",
    "    rej.append('obj_buildingType')\n",
    "    ne = ''\n",
    "    for i in col_interact:\n",
    "        if i not in rej:\n",
    "            ne += 'C(obj_buildingType)*' + i + ' + '\n",
    "        else:\n",
    "            ne += i + ' + '\n",
    "    m = target + ' ~ C(obj_buildingType) + ' + ne[:-2]\n",
    "    return m,rej"
   ]
  },
  {
   "cell_type": "markdown",
   "metadata": {},
   "source": [
    "# Selection of interactions"
   ]
  },
  {
   "cell_type": "code",
   "execution_count": null,
   "metadata": {},
   "outputs": [],
   "source": [
    "m,rej = drop_interaction(df,interaction_all_building,target='Price_Rent_ratio')"
   ]
  },
  {
   "cell_type": "markdown",
   "metadata": {},
   "source": [
    "# Final Model Selected"
   ]
  },
  {
   "cell_type": "code",
   "execution_count": null,
   "metadata": {},
   "outputs": [],
   "source": [
    "model = ols(m,data=dvn)\n",
    "interaction_selected = model.fit()\n",
    "interaction_selected.summary()"
   ]
  },
  {
   "cell_type": "markdown",
   "metadata": {},
   "source": [
    "# Age Quadratic model"
   ]
  },
  {
   "cell_type": "code",
   "execution_count": null,
   "metadata": {},
   "outputs": [],
   "source": [
    "model = ols('Price_Rent_ratio ~ C(obj_buildingType) + C(obj_buildingType)*GDP_Per_Capita_state + Lat + C(obj_buildingType)*Lng + Population_State + cafe + doctors + fast_food + gross_domestic_product + hospital + public_transport + restaurant + zip_population + age + np.power(age,2) + livingSpace + population_density_state + North_of_city + East_of_city + dist_aprox + Employed_ratio + tax_payers_ratio + tax_payers_to_employed_ratio + GDP_dist_state_ratio + tax_per_payers + percent_population_18_30 + percent_population_30_50 + foregin_percent_population + C(obj_buildingType)*area_per_room ',data=df)\n",
    "interaction_selected_age_quad = model.fit()\n",
    "interaction_selected_age_quad.summary()"
   ]
  },
  {
   "cell_type": "markdown",
   "metadata": {},
   "source": [
    "# Linear Model with Age is significantly better - ANOVA TEST"
   ]
  },
  {
   "cell_type": "code",
   "execution_count": null,
   "metadata": {},
   "outputs": [],
   "source": [
    "anova_lm(interaction_selected_age_quad,interaction_selected)"
   ]
  },
  {
   "cell_type": "markdown",
   "metadata": {},
   "source": [
    "# Significant Final Model"
   ]
  },
  {
   "cell_type": "code",
   "execution_count": null,
   "metadata": {},
   "outputs": [],
   "source": [
    "model = ols('Price_Rent_ratio ~ C(obj_buildingType) + C(obj_buildingType)*GDP_Per_Capita_state + Lat + C(obj_buildingType)*Lng + Population_State + cafe  + fast_food  + public_transport  + C(obj_buildingType)*age + livingSpace + population_density_state  + East_of_city + dist_aprox  + tax_per_payers + percent_population_18_30 + percent_population_30_50  + C(obj_buildingType)*area_per_room ',data=dvn)\n",
    "interaction_selected_final = model.fit()\n",
    "interaction_selected_final.summary()"
   ]
  },
  {
   "cell_type": "code",
   "execution_count": null,
   "metadata": {},
   "outputs": [],
   "source": [
    "anova_lm(interaction_selected_final,interaction_selected)"
   ]
  },
  {
   "cell_type": "markdown",
   "metadata": {},
   "source": [
    "# Results interpretation"
   ]
  },
  {
   "cell_type": "code",
   "execution_count": null,
   "metadata": {},
   "outputs": [],
   "source": [
    "interaction_selected_final.summary()"
   ]
  },
  {
   "cell_type": "code",
   "execution_count": null,
   "metadata": {},
   "outputs": [],
   "source": [
    "report = pd.DataFrame()\n",
    "models_report = [null_model,basic_model,interaction_all_building,interaction_selected_age_quad,interaction_selected_final]\n",
    "R2 = []\n",
    "AR2 = []\n",
    "AIC = []\n",
    "DF = []\n",
    "\n",
    "for i in models_report:\n",
    "    R2.append(i.rsquared)\n",
    "    AR2.append(i.rsquared_adj)\n",
    "    AIC.append(i.aic)\n",
    "    DF.append(i.df_model)\n",
    "\n",
    "Models = ['Null Model - non log','Basic Model - non log','All Interactions with building - non Log','Interaction Selected quadratic age - non log','Interaction selected - non log']\n",
    "report['Models'] = Models\n",
    "report['R2'] = R2\n",
    "report['Adj R2'] = AR2\n",
    "report['AIC'] = AIC\n",
    "report['DF'] = DF\n",
    "\n",
    "report_log = pd.read_csv('log_model_report.csv')"
   ]
  },
  {
   "cell_type": "code",
   "execution_count": null,
   "metadata": {},
   "outputs": [],
   "source": [
    "Val = []\n",
    "Ind = []\n",
    "\n",
    "for i in range(len(interaction_selected_final.pvalues)):\n",
    "    if interaction_selected_final.pvalues[i] < .1:\n",
    "        Ind.append(interaction_selected_final.pvalues.index[i])\n",
    "        Val.append(interaction_selected_final.params[i])\n",
    "dp = pd.DataFrame()\n",
    "dp['Parameters'] = Ind\n",
    "dp['Coef'] = Val\n",
    "dp.sort_values('Coef',inplace = True)"
   ]
  },
  {
   "cell_type": "code",
   "execution_count": null,
   "metadata": {},
   "outputs": [],
   "source": [
    "import plotly.graph_objects as go\n",
    "\n",
    "de = dp.copy()\n",
    "de['st'] = de['Parameters'].apply(lambda x: 1 if 'C(obj_buildingType)' in x else 0)\n",
    "de = de[de['st'] == 1]\n",
    "\n",
    "de['nst'] = de['Parameters'].apply(lambda x: 1 if 'livingSpace' not in x else 0)\n",
    "de = de[de['nst'] == 1]\n",
    "de.drop('nst',axis=1,inplace=True)\n",
    "\n",
    "de['nst'] = de['Parameters'].apply(lambda x: 1 if 'Lng' not in x else 0)\n",
    "de = de[de['nst'] == 1]\n",
    "de.drop('nst',axis=1,inplace=True)\n",
    "\n",
    "de['nst'] = de['Parameters'].apply(lambda x: 1 if 'age' not in x else 0)\n",
    "de = de[de['nst'] == 1]\n",
    "de.drop('nst',axis=1,inplace=True)\n",
    "\n",
    "de['nst'] = de['Parameters'].apply(lambda x: 1 if 'rooms' not in x else 0)\n",
    "de = de[de['nst'] == 1]\n",
    "de.drop('nst',axis=1,inplace=True)\n",
    "\n",
    "de['nst'] = de['Parameters'].apply(lambda x: 1 if 'GDP' not in x else 0)\n",
    "de = de[de['nst'] == 1]\n",
    "de.drop('nst',axis=1,inplace=True)\n",
    "\n",
    "dhousep = dp.copy()\n",
    "dhousep = dp.copy()\n",
    "dhousep = dhousep.iloc[1:5]\n",
    "\n",
    "dhousep['categ'] = dhousep['Parameters'].apply(lambda x: x.split('[T.')[1].split(']')[0])"
   ]
  },
  {
   "cell_type": "markdown",
   "metadata": {},
   "source": [
    "# Visualization of coefficients - with p values using plotly"
   ]
  },
  {
   "cell_type": "code",
   "execution_count": null,
   "metadata": {},
   "outputs": [],
   "source": [
    "fig = px.bar(dhousep,x=dhousep['Coef'], y=dhousep['categ'],text=dhousep['Coef'].round(2),\n",
    "            color='p-values',\n",
    "            orientation='h'\n",
    "             )\n",
    "    \n",
    "fig.update_layout(\n",
    "    title='Impact on Category of house',\n",
    "    xaxis=dict(\n",
    "        title='Normalized Coefficient',\n",
    "        titlefont_size=16,\n",
    "        tickfont_size=14,\n",
    "    )\n",
    "    )\n",
    "    \n",
    "fig.show()\n",
    "    "
   ]
  },
  {
   "cell_type": "markdown",
   "metadata": {},
   "source": [
    "# Helper functions to visualize the coefficients with p values"
   ]
  },
  {
   "cell_type": "code",
   "execution_count": null,
   "metadata": {},
   "outputs": [],
   "source": [
    "def plot_coef_cat(dp,cat):\n",
    "    dr = dp.copy()\n",
    "    \n",
    "    if cat == '':\n",
    "        cat = 'other features'\n",
    "        dr['status'] = dr['Parameters'].apply(lambda x: 1 if 'C(obj_buildingType)' not in x else 0)\n",
    "        dr = dr[dr['status'] == 1]\n",
    "    \n",
    "    else:\n",
    "        dr['status'] = dr['Parameters'].apply(lambda x: 0 if cat not in x else 1)\n",
    "        dr = dr[dr['status'] == 1]\n",
    "    \n",
    "\n",
    "    if cat != '':\n",
    "        k = list(dr['Parameters'])\n",
    "        if cat not in k:\n",
    "            lc = 0\n",
    "        if cat in k:\n",
    "            lc = dr[dr['Parameters'] == cat]['Coef'].iloc[0]\n",
    "        dr['new_Coef'] = dr['Coef'].apply(lambda x: x+lc if x!=lc else x)\n",
    "    \n",
    "    else:\n",
    "        dr['new_Coef'] = dr['Coef']\n",
    "    \n",
    "    dr['categ'] = dr['Parameters'].apply(lambda x:  x.split('[T.')[1].split(']:')[0] if '[T.' in x else cat) \n",
    "    \n",
    "    \n",
    "    fig = px.bar(dr,x=dr['new_Coef'], y=dr['Parameters'],text=dr['new_Coef'].round(2),\n",
    "            color='p-values',\n",
    "            orientation='h'\n",
    "             )\n",
    "    \n",
    "    fig.update_layout(\n",
    "    title='Significant Impact on Price to Rent Ratio due to ' + cat,\n",
    "    xaxis=dict(\n",
    "        title='Normalized Coefficient',\n",
    "        titlefont_size=16,\n",
    "        tickfont_size=14,\n",
    "    )\n",
    "    )\n",
    "    \n",
    "    fig.show()\n",
    "    \n",
    "    for j in list(dr['categ']):\n",
    "        if j!= cat:\n",
    "            scatter_cat(df,j,cat)\n",
    "    \n",
    "\n",
    "def scatter_cat(dr,cat,par):\n",
    "    df = dr.copy()\n",
    "    df = df[df['obj_buildingType'] == cat][['obj_buildingType',par,'Price_Rent_ratio']]\n",
    "    \n",
    "    fig = px.scatter(df, x=par, y='Price_Rent_ratio', trendline=\"ols\")\n",
    "    fig.update_layout(\n",
    "    title='Scatter Plot - Price to Rent Ratio  vs ' + cat,\n",
    "    \n",
    "    )\n",
    "    fig.show()\n",
    "    "
   ]
  },
  {
   "cell_type": "markdown",
   "metadata": {},
   "source": [
    "# Data Frame of relevant results"
   ]
  },
  {
   "cell_type": "code",
   "execution_count": null,
   "metadata": {},
   "outputs": [],
   "source": [
    "dp = pd.DataFrame()\n",
    "Param = []\n",
    "Coef = []\n",
    "P_V = []\n",
    "\n",
    "for i in range(len(interaction_selected.params.values)):\n",
    "    param = interaction_selected.params.index[i]\n",
    "    coef = interaction_selected.params.values[i]\n",
    "    p_v = interaction_selected.pvalues[i]\n",
    "    \n",
    "    if p_v < .1:\n",
    "        Param.append(param)\n",
    "        Coef.append(coef)\n",
    "        P_V.append(p_v)\n",
    "dp['Parameters'] = Param\n",
    "dp['Coef'] = Coef\n",
    "dp['p-values'] = P_V\n",
    "dp['p-values'] = dp['p-values'].round(3)\n",
    "dp.sort_values('p-values')"
   ]
  },
  {
   "cell_type": "markdown",
   "metadata": {},
   "source": [
    "# Entire Visualization report with scatter plot as proof of validation with data"
   ]
  },
  {
   "cell_type": "code",
   "execution_count": null,
   "metadata": {},
   "outputs": [],
   "source": [
    "plot_coef_cat(dp,'')\n",
    "plot_coef_cat(dp,'area_per_room')\n",
    "plot_coef_cat(dp,'Lng')\n",
    "plot_coef_cat(dp,'livingSpace')\n",
    "plot_coef_cat(dp,'age')\n",
    "plot_coef_cat(dp,'GDP_Per_Capita_state')"
   ]
  },
  {
   "cell_type": "code",
   "execution_count": null,
   "metadata": {},
   "outputs": [],
   "source": []
  }
 ],
 "metadata": {
  "kernelspec": {
   "display_name": "Python 3.7 (tensorflow)",
   "language": "python",
   "name": "tensorflow"
  },
  "language_info": {
   "codemirror_mode": {
    "name": "ipython",
    "version": 3
   },
   "file_extension": ".py",
   "mimetype": "text/x-python",
   "name": "python",
   "nbconvert_exporter": "python",
   "pygments_lexer": "ipython3",
   "version": "3.7.6"
  }
 },
 "nbformat": 4,
 "nbformat_minor": 4
}
